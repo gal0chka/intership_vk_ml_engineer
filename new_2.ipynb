{
 "cells": [
  {
   "cell_type": "code",
   "execution_count": 1,
   "metadata": {},
   "outputs": [],
   "source": [
    "import pandas as pd\n",
    "import numpy as np\n",
    "import seaborn as sns\n",
    "import matplotlib.pyplot as plt"
   ]
  },
  {
   "cell_type": "code",
   "execution_count": 2,
   "metadata": {},
   "outputs": [
    {
     "data": {
      "text/plain": [
       "(235258, 146)"
      ]
     },
     "execution_count": 2,
     "metadata": {},
     "output_type": "execute_result"
    }
   ],
   "source": [
    "df = pd.read_csv(r'C:\\Users\\artem\\Downloads\\intern_task.csv')\n",
    "df.shape"
   ]
  },
  {
   "cell_type": "code",
   "execution_count": 3,
   "metadata": {},
   "outputs": [
    {
     "data": {
      "text/html": [
       "<div>\n",
       "<style scoped>\n",
       "    .dataframe tbody tr th:only-of-type {\n",
       "        vertical-align: middle;\n",
       "    }\n",
       "\n",
       "    .dataframe tbody tr th {\n",
       "        vertical-align: top;\n",
       "    }\n",
       "\n",
       "    .dataframe thead th {\n",
       "        text-align: right;\n",
       "    }\n",
       "</style>\n",
       "<table border=\"1\" class=\"dataframe\">\n",
       "  <thead>\n",
       "    <tr style=\"text-align: right;\">\n",
       "      <th></th>\n",
       "      <th>rank</th>\n",
       "      <th>query_id</th>\n",
       "      <th>feature_0</th>\n",
       "      <th>feature_1</th>\n",
       "      <th>feature_2</th>\n",
       "      <th>feature_3</th>\n",
       "      <th>feature_4</th>\n",
       "      <th>feature_5</th>\n",
       "      <th>feature_6</th>\n",
       "      <th>feature_7</th>\n",
       "      <th>...</th>\n",
       "      <th>feature_134</th>\n",
       "      <th>feature_135</th>\n",
       "      <th>feature_136</th>\n",
       "      <th>feature_137</th>\n",
       "      <th>feature_138</th>\n",
       "      <th>feature_139</th>\n",
       "      <th>feature_140</th>\n",
       "      <th>feature_141</th>\n",
       "      <th>feature_142</th>\n",
       "      <th>feature_143</th>\n",
       "    </tr>\n",
       "  </thead>\n",
       "  <tbody>\n",
       "    <tr>\n",
       "      <th>0</th>\n",
       "      <td>0</td>\n",
       "      <td>10</td>\n",
       "      <td>1.0</td>\n",
       "      <td>0.0</td>\n",
       "      <td>1.0</td>\n",
       "      <td>3.0</td>\n",
       "      <td>3.0</td>\n",
       "      <td>0.333333</td>\n",
       "      <td>0.0</td>\n",
       "      <td>0.333333</td>\n",
       "      <td>...</td>\n",
       "      <td>0.0</td>\n",
       "      <td>0.000000</td>\n",
       "      <td>0.454545</td>\n",
       "      <td>0.890238</td>\n",
       "      <td>8.655534</td>\n",
       "      <td>1.000000</td>\n",
       "      <td>0.077778</td>\n",
       "      <td>0.002222</td>\n",
       "      <td>1.0</td>\n",
       "      <td>0.333333</td>\n",
       "    </tr>\n",
       "    <tr>\n",
       "      <th>1</th>\n",
       "      <td>1</td>\n",
       "      <td>10</td>\n",
       "      <td>3.0</td>\n",
       "      <td>0.0</td>\n",
       "      <td>3.0</td>\n",
       "      <td>0.0</td>\n",
       "      <td>3.0</td>\n",
       "      <td>1.000000</td>\n",
       "      <td>0.0</td>\n",
       "      <td>1.000000</td>\n",
       "      <td>...</td>\n",
       "      <td>0.0</td>\n",
       "      <td>0.000000</td>\n",
       "      <td>0.000000</td>\n",
       "      <td>0.773976</td>\n",
       "      <td>23.130514</td>\n",
       "      <td>0.000000</td>\n",
       "      <td>0.027826</td>\n",
       "      <td>0.000430</td>\n",
       "      <td>44.0</td>\n",
       "      <td>14.666667</td>\n",
       "    </tr>\n",
       "    <tr>\n",
       "      <th>2</th>\n",
       "      <td>0</td>\n",
       "      <td>10</td>\n",
       "      <td>3.0</td>\n",
       "      <td>0.0</td>\n",
       "      <td>2.0</td>\n",
       "      <td>0.0</td>\n",
       "      <td>3.0</td>\n",
       "      <td>1.000000</td>\n",
       "      <td>0.0</td>\n",
       "      <td>0.666667</td>\n",
       "      <td>...</td>\n",
       "      <td>0.0</td>\n",
       "      <td>0.000000</td>\n",
       "      <td>0.000000</td>\n",
       "      <td>0.918308</td>\n",
       "      <td>13.351339</td>\n",
       "      <td>0.000000</td>\n",
       "      <td>0.014925</td>\n",
       "      <td>0.000104</td>\n",
       "      <td>22.0</td>\n",
       "      <td>7.333333</td>\n",
       "    </tr>\n",
       "    <tr>\n",
       "      <th>3</th>\n",
       "      <td>1</td>\n",
       "      <td>10</td>\n",
       "      <td>3.0</td>\n",
       "      <td>0.0</td>\n",
       "      <td>3.0</td>\n",
       "      <td>0.0</td>\n",
       "      <td>3.0</td>\n",
       "      <td>1.000000</td>\n",
       "      <td>0.0</td>\n",
       "      <td>1.000000</td>\n",
       "      <td>...</td>\n",
       "      <td>0.0</td>\n",
       "      <td>0.000000</td>\n",
       "      <td>0.000000</td>\n",
       "      <td>0.975355</td>\n",
       "      <td>18.240926</td>\n",
       "      <td>0.000000</td>\n",
       "      <td>0.053140</td>\n",
       "      <td>0.000255</td>\n",
       "      <td>8.0</td>\n",
       "      <td>2.666667</td>\n",
       "    </tr>\n",
       "    <tr>\n",
       "      <th>4</th>\n",
       "      <td>2</td>\n",
       "      <td>10</td>\n",
       "      <td>3.0</td>\n",
       "      <td>0.0</td>\n",
       "      <td>3.0</td>\n",
       "      <td>1.0</td>\n",
       "      <td>3.0</td>\n",
       "      <td>1.000000</td>\n",
       "      <td>0.0</td>\n",
       "      <td>1.000000</td>\n",
       "      <td>...</td>\n",
       "      <td>273.0</td>\n",
       "      <td>79.670665</td>\n",
       "      <td>0.200000</td>\n",
       "      <td>0.990119</td>\n",
       "      <td>31.786048</td>\n",
       "      <td>0.333333</td>\n",
       "      <td>0.046512</td>\n",
       "      <td>0.000307</td>\n",
       "      <td>24.0</td>\n",
       "      <td>8.000000</td>\n",
       "    </tr>\n",
       "  </tbody>\n",
       "</table>\n",
       "<p>5 rows × 146 columns</p>\n",
       "</div>"
      ],
      "text/plain": [
       "   rank  query_id  feature_0  feature_1  feature_2  feature_3  feature_4  \\\n",
       "0     0        10        1.0        0.0        1.0        3.0        3.0   \n",
       "1     1        10        3.0        0.0        3.0        0.0        3.0   \n",
       "2     0        10        3.0        0.0        2.0        0.0        3.0   \n",
       "3     1        10        3.0        0.0        3.0        0.0        3.0   \n",
       "4     2        10        3.0        0.0        3.0        1.0        3.0   \n",
       "\n",
       "   feature_5  feature_6  feature_7  ...  feature_134  feature_135  \\\n",
       "0   0.333333        0.0   0.333333  ...          0.0     0.000000   \n",
       "1   1.000000        0.0   1.000000  ...          0.0     0.000000   \n",
       "2   1.000000        0.0   0.666667  ...          0.0     0.000000   \n",
       "3   1.000000        0.0   1.000000  ...          0.0     0.000000   \n",
       "4   1.000000        0.0   1.000000  ...        273.0    79.670665   \n",
       "\n",
       "   feature_136  feature_137  feature_138  feature_139  feature_140  \\\n",
       "0     0.454545     0.890238     8.655534     1.000000     0.077778   \n",
       "1     0.000000     0.773976    23.130514     0.000000     0.027826   \n",
       "2     0.000000     0.918308    13.351339     0.000000     0.014925   \n",
       "3     0.000000     0.975355    18.240926     0.000000     0.053140   \n",
       "4     0.200000     0.990119    31.786048     0.333333     0.046512   \n",
       "\n",
       "   feature_141  feature_142  feature_143  \n",
       "0     0.002222          1.0     0.333333  \n",
       "1     0.000430         44.0    14.666667  \n",
       "2     0.000104         22.0     7.333333  \n",
       "3     0.000255          8.0     2.666667  \n",
       "4     0.000307         24.0     8.000000  \n",
       "\n",
       "[5 rows x 146 columns]"
      ]
     },
     "execution_count": 3,
     "metadata": {},
     "output_type": "execute_result"
    }
   ],
   "source": [
    "df.head()"
   ]
  },
  {
   "cell_type": "code",
   "execution_count": 4,
   "metadata": {},
   "outputs": [
    {
     "data": {
      "text/plain": [
       "rank           0\n",
       "query_id       0\n",
       "feature_0      0\n",
       "feature_1      0\n",
       "feature_2      0\n",
       "              ..\n",
       "feature_139    0\n",
       "feature_140    0\n",
       "feature_141    0\n",
       "feature_142    0\n",
       "feature_143    0\n",
       "Length: 146, dtype: int64"
      ]
     },
     "execution_count": 4,
     "metadata": {},
     "output_type": "execute_result"
    }
   ],
   "source": [
    "missing_values = df.isnull().sum()\n",
    "missing_values #проверяем на пропуски"
   ]
  },
  {
   "cell_type": "code",
   "execution_count": 5,
   "metadata": {},
   "outputs": [
    {
     "data": {
      "text/plain": [
       "0.0"
      ]
     },
     "execution_count": 5,
     "metadata": {},
     "output_type": "execute_result"
    }
   ],
   "source": [
    "missing_values.mean()"
   ]
  },
  {
   "cell_type": "code",
   "execution_count": 6,
   "metadata": {},
   "outputs": [
    {
     "data": {
      "text/plain": [
       "True"
      ]
     },
     "execution_count": 6,
     "metadata": {},
     "output_type": "execute_result"
    }
   ],
   "source": [
    "df.select_dtypes('object').empty # нет категориальных значений"
   ]
  },
  {
   "cell_type": "code",
   "execution_count": 7,
   "metadata": {},
   "outputs": [
    {
     "data": {
      "text/plain": [
       "(235258, 146)"
      ]
     },
     "execution_count": 7,
     "metadata": {},
     "output_type": "execute_result"
    }
   ],
   "source": [
    "df.shape"
   ]
  },
  {
   "cell_type": "code",
   "execution_count": 8,
   "metadata": {},
   "outputs": [
    {
     "data": {
      "text/html": [
       "<div>\n",
       "<style scoped>\n",
       "    .dataframe tbody tr th:only-of-type {\n",
       "        vertical-align: middle;\n",
       "    }\n",
       "\n",
       "    .dataframe tbody tr th {\n",
       "        vertical-align: top;\n",
       "    }\n",
       "\n",
       "    .dataframe thead th {\n",
       "        text-align: right;\n",
       "    }\n",
       "</style>\n",
       "<table border=\"1\" class=\"dataframe\">\n",
       "  <thead>\n",
       "    <tr style=\"text-align: right;\">\n",
       "      <th></th>\n",
       "      <th>rank</th>\n",
       "      <th>query_id</th>\n",
       "      <th>feature_0</th>\n",
       "      <th>feature_1</th>\n",
       "      <th>feature_2</th>\n",
       "      <th>feature_3</th>\n",
       "      <th>feature_4</th>\n",
       "      <th>feature_5</th>\n",
       "      <th>feature_6</th>\n",
       "      <th>feature_7</th>\n",
       "      <th>...</th>\n",
       "      <th>feature_134</th>\n",
       "      <th>feature_135</th>\n",
       "      <th>feature_136</th>\n",
       "      <th>feature_137</th>\n",
       "      <th>feature_138</th>\n",
       "      <th>feature_139</th>\n",
       "      <th>feature_140</th>\n",
       "      <th>feature_141</th>\n",
       "      <th>feature_142</th>\n",
       "      <th>feature_143</th>\n",
       "    </tr>\n",
       "  </thead>\n",
       "  <tbody>\n",
       "    <tr>\n",
       "      <th>count</th>\n",
       "      <td>235258.000000</td>\n",
       "      <td>235258.000000</td>\n",
       "      <td>235258.000000</td>\n",
       "      <td>235258.000000</td>\n",
       "      <td>235258.000000</td>\n",
       "      <td>235258.000000</td>\n",
       "      <td>235258.000000</td>\n",
       "      <td>235258.000000</td>\n",
       "      <td>235258.000000</td>\n",
       "      <td>235258.000000</td>\n",
       "      <td>...</td>\n",
       "      <td>2.352580e+05</td>\n",
       "      <td>2.352580e+05</td>\n",
       "      <td>235258.000000</td>\n",
       "      <td>235258.000000</td>\n",
       "      <td>235258.000000</td>\n",
       "      <td>235258.000000</td>\n",
       "      <td>235258.000000</td>\n",
       "      <td>235258.000000</td>\n",
       "      <td>235258.000000</td>\n",
       "      <td>235258.000000</td>\n",
       "    </tr>\n",
       "    <tr>\n",
       "      <th>mean</th>\n",
       "      <td>0.677869</td>\n",
       "      <td>14828.413401</td>\n",
       "      <td>1.911960</td>\n",
       "      <td>0.206233</td>\n",
       "      <td>1.189847</td>\n",
       "      <td>0.550272</td>\n",
       "      <td>1.960082</td>\n",
       "      <td>0.803964</td>\n",
       "      <td>0.097557</td>\n",
       "      <td>0.541174</td>\n",
       "      <td>...</td>\n",
       "      <td>4.763432e+02</td>\n",
       "      <td>1.046698e+04</td>\n",
       "      <td>0.070299</td>\n",
       "      <td>0.740710</td>\n",
       "      <td>11.067947</td>\n",
       "      <td>0.281747</td>\n",
       "      <td>0.027033</td>\n",
       "      <td>0.000269</td>\n",
       "      <td>22.457910</td>\n",
       "      <td>9.560379</td>\n",
       "    </tr>\n",
       "    <tr>\n",
       "      <th>std</th>\n",
       "      <td>0.830033</td>\n",
       "      <td>8193.945170</td>\n",
       "      <td>1.237374</td>\n",
       "      <td>0.579089</td>\n",
       "      <td>1.037233</td>\n",
       "      <td>0.790947</td>\n",
       "      <td>1.203534</td>\n",
       "      <td>0.339955</td>\n",
       "      <td>0.266035</td>\n",
       "      <td>0.419973</td>\n",
       "      <td>...</td>\n",
       "      <td>1.954840e+04</td>\n",
       "      <td>2.649584e+06</td>\n",
       "      <td>0.100721</td>\n",
       "      <td>0.352800</td>\n",
       "      <td>15.336861</td>\n",
       "      <td>0.392089</td>\n",
       "      <td>0.033351</td>\n",
       "      <td>0.002088</td>\n",
       "      <td>63.708018</td>\n",
       "      <td>14.347378</td>\n",
       "    </tr>\n",
       "    <tr>\n",
       "      <th>min</th>\n",
       "      <td>0.000000</td>\n",
       "      <td>10.000000</td>\n",
       "      <td>0.000000</td>\n",
       "      <td>0.000000</td>\n",
       "      <td>0.000000</td>\n",
       "      <td>0.000000</td>\n",
       "      <td>0.000000</td>\n",
       "      <td>0.000000</td>\n",
       "      <td>0.000000</td>\n",
       "      <td>0.000000</td>\n",
       "      <td>...</td>\n",
       "      <td>0.000000e+00</td>\n",
       "      <td>0.000000e+00</td>\n",
       "      <td>0.000000</td>\n",
       "      <td>0.000000</td>\n",
       "      <td>0.000000</td>\n",
       "      <td>0.000000</td>\n",
       "      <td>0.000000</td>\n",
       "      <td>0.000000</td>\n",
       "      <td>0.000000</td>\n",
       "      <td>0.000000</td>\n",
       "    </tr>\n",
       "    <tr>\n",
       "      <th>25%</th>\n",
       "      <td>0.000000</td>\n",
       "      <td>8215.000000</td>\n",
       "      <td>1.000000</td>\n",
       "      <td>0.000000</td>\n",
       "      <td>0.000000</td>\n",
       "      <td>0.000000</td>\n",
       "      <td>1.000000</td>\n",
       "      <td>0.666667</td>\n",
       "      <td>0.000000</td>\n",
       "      <td>0.000000</td>\n",
       "      <td>...</td>\n",
       "      <td>0.000000e+00</td>\n",
       "      <td>0.000000e+00</td>\n",
       "      <td>0.000000</td>\n",
       "      <td>0.620522</td>\n",
       "      <td>0.000000</td>\n",
       "      <td>0.000000</td>\n",
       "      <td>0.006703</td>\n",
       "      <td>0.000000</td>\n",
       "      <td>4.000000</td>\n",
       "      <td>2.000000</td>\n",
       "    </tr>\n",
       "    <tr>\n",
       "      <th>50%</th>\n",
       "      <td>0.000000</td>\n",
       "      <td>14935.000000</td>\n",
       "      <td>2.000000</td>\n",
       "      <td>0.000000</td>\n",
       "      <td>1.000000</td>\n",
       "      <td>0.000000</td>\n",
       "      <td>2.000000</td>\n",
       "      <td>1.000000</td>\n",
       "      <td>0.000000</td>\n",
       "      <td>0.500000</td>\n",
       "      <td>...</td>\n",
       "      <td>0.000000e+00</td>\n",
       "      <td>0.000000e+00</td>\n",
       "      <td>0.000000</td>\n",
       "      <td>0.926779</td>\n",
       "      <td>9.448900</td>\n",
       "      <td>0.000000</td>\n",
       "      <td>0.017761</td>\n",
       "      <td>0.000008</td>\n",
       "      <td>12.000000</td>\n",
       "      <td>5.500000</td>\n",
       "    </tr>\n",
       "    <tr>\n",
       "      <th>75%</th>\n",
       "      <td>1.000000</td>\n",
       "      <td>21580.000000</td>\n",
       "      <td>3.000000</td>\n",
       "      <td>0.000000</td>\n",
       "      <td>2.000000</td>\n",
       "      <td>1.000000</td>\n",
       "      <td>3.000000</td>\n",
       "      <td>1.000000</td>\n",
       "      <td>0.000000</td>\n",
       "      <td>1.000000</td>\n",
       "      <td>...</td>\n",
       "      <td>1.000000e+00</td>\n",
       "      <td>4.000000e-01</td>\n",
       "      <td>0.142857</td>\n",
       "      <td>0.999613</td>\n",
       "      <td>16.146733</td>\n",
       "      <td>0.500000</td>\n",
       "      <td>0.034954</td>\n",
       "      <td>0.000109</td>\n",
       "      <td>28.000000</td>\n",
       "      <td>12.000000</td>\n",
       "    </tr>\n",
       "    <tr>\n",
       "      <th>max</th>\n",
       "      <td>4.000000</td>\n",
       "      <td>29995.000000</td>\n",
       "      <td>31.000000</td>\n",
       "      <td>18.000000</td>\n",
       "      <td>27.000000</td>\n",
       "      <td>9.000000</td>\n",
       "      <td>31.000000</td>\n",
       "      <td>1.000000</td>\n",
       "      <td>1.000000</td>\n",
       "      <td>1.000000</td>\n",
       "      <td>...</td>\n",
       "      <td>1.731553e+06</td>\n",
       "      <td>8.000000e+08</td>\n",
       "      <td>0.818182</td>\n",
       "      <td>1.000000</td>\n",
       "      <td>2506.799764</td>\n",
       "      <td>1.000000</td>\n",
       "      <td>0.711261</td>\n",
       "      <td>0.250000</td>\n",
       "      <td>15074.000000</td>\n",
       "      <td>1552.000000</td>\n",
       "    </tr>\n",
       "  </tbody>\n",
       "</table>\n",
       "<p>8 rows × 146 columns</p>\n",
       "</div>"
      ],
      "text/plain": [
       "                rank       query_id      feature_0      feature_1  \\\n",
       "count  235258.000000  235258.000000  235258.000000  235258.000000   \n",
       "mean        0.677869   14828.413401       1.911960       0.206233   \n",
       "std         0.830033    8193.945170       1.237374       0.579089   \n",
       "min         0.000000      10.000000       0.000000       0.000000   \n",
       "25%         0.000000    8215.000000       1.000000       0.000000   \n",
       "50%         0.000000   14935.000000       2.000000       0.000000   \n",
       "75%         1.000000   21580.000000       3.000000       0.000000   \n",
       "max         4.000000   29995.000000      31.000000      18.000000   \n",
       "\n",
       "           feature_2      feature_3      feature_4      feature_5  \\\n",
       "count  235258.000000  235258.000000  235258.000000  235258.000000   \n",
       "mean        1.189847       0.550272       1.960082       0.803964   \n",
       "std         1.037233       0.790947       1.203534       0.339955   \n",
       "min         0.000000       0.000000       0.000000       0.000000   \n",
       "25%         0.000000       0.000000       1.000000       0.666667   \n",
       "50%         1.000000       0.000000       2.000000       1.000000   \n",
       "75%         2.000000       1.000000       3.000000       1.000000   \n",
       "max        27.000000       9.000000      31.000000       1.000000   \n",
       "\n",
       "           feature_6      feature_7  ...   feature_134   feature_135  \\\n",
       "count  235258.000000  235258.000000  ...  2.352580e+05  2.352580e+05   \n",
       "mean        0.097557       0.541174  ...  4.763432e+02  1.046698e+04   \n",
       "std         0.266035       0.419973  ...  1.954840e+04  2.649584e+06   \n",
       "min         0.000000       0.000000  ...  0.000000e+00  0.000000e+00   \n",
       "25%         0.000000       0.000000  ...  0.000000e+00  0.000000e+00   \n",
       "50%         0.000000       0.500000  ...  0.000000e+00  0.000000e+00   \n",
       "75%         0.000000       1.000000  ...  1.000000e+00  4.000000e-01   \n",
       "max         1.000000       1.000000  ...  1.731553e+06  8.000000e+08   \n",
       "\n",
       "         feature_136    feature_137    feature_138    feature_139  \\\n",
       "count  235258.000000  235258.000000  235258.000000  235258.000000   \n",
       "mean        0.070299       0.740710      11.067947       0.281747   \n",
       "std         0.100721       0.352800      15.336861       0.392089   \n",
       "min         0.000000       0.000000       0.000000       0.000000   \n",
       "25%         0.000000       0.620522       0.000000       0.000000   \n",
       "50%         0.000000       0.926779       9.448900       0.000000   \n",
       "75%         0.142857       0.999613      16.146733       0.500000   \n",
       "max         0.818182       1.000000    2506.799764       1.000000   \n",
       "\n",
       "         feature_140    feature_141    feature_142    feature_143  \n",
       "count  235258.000000  235258.000000  235258.000000  235258.000000  \n",
       "mean        0.027033       0.000269      22.457910       9.560379  \n",
       "std         0.033351       0.002088      63.708018      14.347378  \n",
       "min         0.000000       0.000000       0.000000       0.000000  \n",
       "25%         0.006703       0.000000       4.000000       2.000000  \n",
       "50%         0.017761       0.000008      12.000000       5.500000  \n",
       "75%         0.034954       0.000109      28.000000      12.000000  \n",
       "max         0.711261       0.250000   15074.000000    1552.000000  \n",
       "\n",
       "[8 rows x 146 columns]"
      ]
     },
     "execution_count": 8,
     "metadata": {},
     "output_type": "execute_result"
    }
   ],
   "source": [
    "df.describe() #смотрим на данные, видим выбросы, а это значит, что для лучшей дальнейшей работы мы должны будем их нормализованть"
   ]
  },
  {
   "cell_type": "code",
   "execution_count": 9,
   "metadata": {},
   "outputs": [],
   "source": [
    "df = df[[c for c\n",
    "        in list(df)\n",
    "        if len(df[c].unique()) > 1]] #удаляем повторяющуюся информацию, так как она ничего не несет в себе"
   ]
  },
  {
   "cell_type": "code",
   "execution_count": 10,
   "metadata": {},
   "outputs": [
    {
     "data": {
      "text/plain": [
       "(235258, 142)"
      ]
     },
     "execution_count": 10,
     "metadata": {},
     "output_type": "execute_result"
    }
   ],
   "source": [
    "df.drop_duplicates(inplace=True) #удаляем еще и дубликаты, если они есть\n",
    "df.shape"
   ]
  },
  {
   "cell_type": "code",
   "execution_count": 11,
   "metadata": {},
   "outputs": [
    {
     "data": {
      "image/png": "[encoded data removed]",
      "text/plain": [
       "<Figure size 640x480 with 1 Axes>"
      ]
     },
     "metadata": {},
     "output_type": "display_data"
    }
   ],
   "source": [
    "df['rank'].value_counts().plot(kind='bar')\n",
    "plt.title('count_rank')\n",
    "plt.xlabel('rank')\n",
    "plt.ylabel('count')\n",
    "plt.show() #смотри на распределения в данных и видим, что распределение разное"
   ]
  },
  {
   "cell_type": "code",
   "execution_count": 12,
   "metadata": {},
   "outputs": [
    {
     "data": {
      "text/plain": [
       "2000"
      ]
     },
     "execution_count": 12,
     "metadata": {},
     "output_type": "execute_result"
    }
   ],
   "source": [
    "df['query_id'].nunique()"
   ]
  },
  {
   "cell_type": "code",
   "execution_count": 13,
   "metadata": {},
   "outputs": [],
   "source": [
    "shufle_df = df.sample(frac = 1) #перемешаем объекты"
   ]
  },
  {
   "cell_type": "code",
   "execution_count": 14,
   "metadata": {},
   "outputs": [],
   "source": [
    "from sklearn.preprocessing import StandardScaler\n",
    "X = shufle_df.drop(['rank'], axis=1)\n",
    "y = shufle_df['rank']\n",
    "scaler = StandardScaler()\n",
    "scaler_X = scaler.fit_transform(X)\n",
    "scaler_X = pd.DataFrame(scaler_X, columns=X.columns) #нормалтзуем данные используя StandartScaller"
   ]
  },
  {
   "cell_type": "code",
   "execution_count": 15,
   "metadata": {},
   "outputs": [],
   "source": [
    "from sklearn.model_selection import train_test_split\n",
    "X_train, X_test, y_train, y_test  = train_test_split(scaler_X , y, test_size = 0.25, random_state = 42)\n",
    "#поделим на тестовую и тренировочную выборку"
   ]
  },
  {
   "cell_type": "code",
   "execution_count": 16,
   "metadata": {},
   "outputs": [],
   "source": [
    "import xgboost as xgb\n",
    "xgb1 = xgb.XGBClassifier() # инициализация xgboost\n",
    "xgb1.fit(X_train, y_train); # обучаем на обучающей выборке"
   ]
  },
  {
   "cell_type": "code",
   "execution_count": 17,
   "metadata": {},
   "outputs": [
    {
     "data": {
      "text/plain": [
       "0.7672413793103448"
      ]
     },
     "execution_count": 17,
     "metadata": {},
     "output_type": "execute_result"
    }
   ],
   "source": [
    "from sklearn.metrics import ndcg_score\n",
    "ndcg_5 = ndcg_score(np.array([y_test]), np.array([xgb1.predict(X_test)]), k=5)\n",
    "ndcg_5 # получаем хорошее качество модели\n"
   ]
  },
  {
   "cell_type": "code",
   "execution_count": null,
   "metadata": {},
   "outputs": [],
   "source": []
  }
 ],
 "metadata": {
  "kernelspec": {
   "display_name": ".venv",
   "language": "python",
   "name": "python3"
  },
  "language_info": {
   "codemirror_mode": {
    "name": "ipython",
    "version": 3
   },
   "file_extension": ".py",
   "mimetype": "text/x-python",
   "name": "python",
   "nbconvert_exporter": "python",
   "pygments_lexer": "ipython3",
   "version": "3.11.4"
  }
 },
 "nbformat": 4,
 "nbformat_minor": 2
}
